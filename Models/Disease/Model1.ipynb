{
 "cells": [
  {
   "cell_type": "code",
   "execution_count": 20,
   "id": "cc2aadda-21e8-4295-bc0f-999a24d3db68",
   "metadata": {},
   "outputs": [
    {
     "name": "stdout",
     "output_type": "stream",
     "text": [
      "Requirement already satisfied: tensorflow in c:\\users\\prakash kale\\anaconda3\\lib\\site-packages (2.15.0)\n",
      "Requirement already satisfied: tensorflow-intel==2.15.0 in c:\\users\\prakash kale\\anaconda3\\lib\\site-packages (from tensorflow) (2.15.0)\n",
      "Requirement already satisfied: tensorflow-io-gcs-filesystem>=0.23.1 in c:\\users\\prakash kale\\anaconda3\\lib\\site-packages (from tensorflow-intel==2.15.0->tensorflow) (0.31.0)\n",
      "Requirement already satisfied: packaging in c:\\users\\prakash kale\\anaconda3\\lib\\site-packages (from tensorflow-intel==2.15.0->tensorflow) (24.2)\n",
      "Requirement already satisfied: absl-py>=1.0.0 in c:\\users\\prakash kale\\anaconda3\\lib\\site-packages (from tensorflow-intel==2.15.0->tensorflow) (2.0.0)\n",
      "Requirement already satisfied: termcolor>=1.1.0 in c:\\users\\prakash kale\\anaconda3\\lib\\site-packages (from tensorflow-intel==2.15.0->tensorflow) (2.3.0)\n",
      "Requirement already satisfied: setuptools in c:\\users\\prakash kale\\anaconda3\\lib\\site-packages (from tensorflow-intel==2.15.0->tensorflow) (63.4.1)\n",
      "Requirement already satisfied: grpcio<2.0,>=1.24.3 in c:\\users\\prakash kale\\anaconda3\\lib\\site-packages (from tensorflow-intel==2.15.0->tensorflow) (1.59.2)\n",
      "Requirement already satisfied: typing-extensions>=3.6.6 in c:\\users\\prakash kale\\anaconda3\\lib\\site-packages (from tensorflow-intel==2.15.0->tensorflow) (4.13.2)\n",
      "Requirement already satisfied: gast!=0.5.0,!=0.5.1,!=0.5.2,>=0.2.1 in c:\\users\\prakash kale\\anaconda3\\lib\\site-packages (from tensorflow-intel==2.15.0->tensorflow) (0.5.4)\n",
      "Requirement already satisfied: libclang>=13.0.0 in c:\\users\\prakash kale\\anaconda3\\lib\\site-packages (from tensorflow-intel==2.15.0->tensorflow) (16.0.6)\n",
      "Requirement already satisfied: h5py>=2.9.0 in c:\\users\\prakash kale\\anaconda3\\lib\\site-packages (from tensorflow-intel==2.15.0->tensorflow) (3.7.0)\n",
      "Requirement already satisfied: google-pasta>=0.1.1 in c:\\users\\prakash kale\\anaconda3\\lib\\site-packages (from tensorflow-intel==2.15.0->tensorflow) (0.2.0)\n",
      "Requirement already satisfied: numpy<2.0.0,>=1.23.5 in c:\\users\\prakash kale\\anaconda3\\lib\\site-packages (from tensorflow-intel==2.15.0->tensorflow) (1.26.4)\n",
      "Requirement already satisfied: wrapt<1.15,>=1.11.0 in c:\\users\\prakash kale\\anaconda3\\lib\\site-packages (from tensorflow-intel==2.15.0->tensorflow) (1.14.1)\n",
      "Requirement already satisfied: tensorboard<2.16,>=2.15 in c:\\users\\prakash kale\\anaconda3\\lib\\site-packages (from tensorflow-intel==2.15.0->tensorflow) (2.15.1)\n",
      "Requirement already satisfied: keras<2.16,>=2.15.0 in c:\\users\\prakash kale\\anaconda3\\lib\\site-packages (from tensorflow-intel==2.15.0->tensorflow) (2.15.0)\n",
      "Requirement already satisfied: flatbuffers>=23.5.26 in c:\\users\\prakash kale\\anaconda3\\lib\\site-packages (from tensorflow-intel==2.15.0->tensorflow) (23.5.26)\n",
      "Requirement already satisfied: opt-einsum>=2.3.2 in c:\\users\\prakash kale\\anaconda3\\lib\\site-packages (from tensorflow-intel==2.15.0->tensorflow) (3.3.0)\n",
      "Requirement already satisfied: protobuf!=4.21.0,!=4.21.1,!=4.21.2,!=4.21.3,!=4.21.4,!=4.21.5,<5.0.0dev,>=3.20.3 in c:\\users\\prakash kale\\anaconda3\\lib\\site-packages (from tensorflow-intel==2.15.0->tensorflow) (4.23.4)\n",
      "Requirement already satisfied: six>=1.12.0 in c:\\users\\prakash kale\\anaconda3\\lib\\site-packages (from tensorflow-intel==2.15.0->tensorflow) (1.16.0)\n",
      "Requirement already satisfied: ml-dtypes~=0.2.0 in c:\\users\\prakash kale\\anaconda3\\lib\\site-packages (from tensorflow-intel==2.15.0->tensorflow) (0.2.0)\n",
      "Requirement already satisfied: tensorflow-estimator<2.16,>=2.15.0 in c:\\users\\prakash kale\\anaconda3\\lib\\site-packages (from tensorflow-intel==2.15.0->tensorflow) (2.15.0)\n",
      "Requirement already satisfied: astunparse>=1.6.0 in c:\\users\\prakash kale\\anaconda3\\lib\\site-packages (from tensorflow-intel==2.15.0->tensorflow) (1.6.3)\n",
      "Requirement already satisfied: wheel<1.0,>=0.23.0 in c:\\users\\prakash kale\\anaconda3\\lib\\site-packages (from astunparse>=1.6.0->tensorflow-intel==2.15.0->tensorflow) (0.37.1)\n",
      "Requirement already satisfied: google-auth<3,>=1.6.3 in c:\\users\\prakash kale\\anaconda3\\lib\\site-packages (from tensorboard<2.16,>=2.15->tensorflow-intel==2.15.0->tensorflow) (2.23.4)\n",
      "Requirement already satisfied: requests<3,>=2.21.0 in c:\\users\\prakash kale\\anaconda3\\lib\\site-packages (from tensorboard<2.16,>=2.15->tensorflow-intel==2.15.0->tensorflow) (2.32.3)\n",
      "Requirement already satisfied: werkzeug>=1.0.1 in c:\\users\\prakash kale\\anaconda3\\lib\\site-packages (from tensorboard<2.16,>=2.15->tensorflow-intel==2.15.0->tensorflow) (2.0.3)\n",
      "Requirement already satisfied: tensorboard-data-server<0.8.0,>=0.7.0 in c:\\users\\prakash kale\\anaconda3\\lib\\site-packages (from tensorboard<2.16,>=2.15->tensorflow-intel==2.15.0->tensorflow) (0.7.2)\n",
      "Requirement already satisfied: google-auth-oauthlib<2,>=0.5 in c:\\users\\prakash kale\\anaconda3\\lib\\site-packages (from tensorboard<2.16,>=2.15->tensorflow-intel==2.15.0->tensorflow) (1.1.0)\n",
      "Requirement already satisfied: markdown>=2.6.8 in c:\\users\\prakash kale\\anaconda3\\lib\\site-packages (from tensorboard<2.16,>=2.15->tensorflow-intel==2.15.0->tensorflow) (3.3.4)\n",
      "Requirement already satisfied: cachetools<6.0,>=2.0.0 in c:\\users\\prakash kale\\anaconda3\\lib\\site-packages (from google-auth<3,>=1.6.3->tensorboard<2.16,>=2.15->tensorflow-intel==2.15.0->tensorflow) (5.3.2)\n",
      "Requirement already satisfied: rsa<5,>=3.1.4 in c:\\users\\prakash kale\\anaconda3\\lib\\site-packages (from google-auth<3,>=1.6.3->tensorboard<2.16,>=2.15->tensorflow-intel==2.15.0->tensorflow) (4.9)\n",
      "Requirement already satisfied: pyasn1-modules>=0.2.1 in c:\\users\\prakash kale\\anaconda3\\lib\\site-packages (from google-auth<3,>=1.6.3->tensorboard<2.16,>=2.15->tensorflow-intel==2.15.0->tensorflow) (0.2.8)\n",
      "Requirement already satisfied: requests-oauthlib>=0.7.0 in c:\\users\\prakash kale\\anaconda3\\lib\\site-packages (from google-auth-oauthlib<2,>=0.5->tensorboard<2.16,>=2.15->tensorflow-intel==2.15.0->tensorflow) (1.3.1)\n",
      "Requirement already satisfied: idna<4,>=2.5 in c:\\users\\prakash kale\\anaconda3\\lib\\site-packages (from requests<3,>=2.21.0->tensorboard<2.16,>=2.15->tensorflow-intel==2.15.0->tensorflow) (3.3)\n",
      "Requirement already satisfied: charset-normalizer<4,>=2 in c:\\users\\prakash kale\\anaconda3\\lib\\site-packages (from requests<3,>=2.21.0->tensorboard<2.16,>=2.15->tensorflow-intel==2.15.0->tensorflow) (2.0.4)\n",
      "Requirement already satisfied: certifi>=2017.4.17 in c:\\users\\prakash kale\\anaconda3\\lib\\site-packages (from requests<3,>=2.21.0->tensorboard<2.16,>=2.15->tensorflow-intel==2.15.0->tensorflow) (2025.4.26)\n",
      "Requirement already satisfied: urllib3<3,>=1.21.1 in c:\\users\\prakash kale\\anaconda3\\lib\\site-packages (from requests<3,>=2.21.0->tensorboard<2.16,>=2.15->tensorflow-intel==2.15.0->tensorflow) (2.4.0)\n",
      "Requirement already satisfied: pyasn1<0.5.0,>=0.4.6 in c:\\users\\prakash kale\\anaconda3\\lib\\site-packages (from pyasn1-modules>=0.2.1->google-auth<3,>=1.6.3->tensorboard<2.16,>=2.15->tensorflow-intel==2.15.0->tensorflow) (0.4.8)\n",
      "Requirement already satisfied: oauthlib>=3.0.0 in c:\\users\\prakash kale\\anaconda3\\lib\\site-packages (from requests-oauthlib>=0.7.0->google-auth-oauthlib<2,>=0.5->tensorboard<2.16,>=2.15->tensorflow-intel==2.15.0->tensorflow) (3.2.2)\n",
      "Note: you may need to restart the kernel to use updated packages.\n"
     ]
    }
   ],
   "source": [
    "pip install tensorflow"
   ]
  },
  {
   "cell_type": "code",
   "execution_count": 21,
   "id": "f4d78d26-404b-4fa6-b2b3-67d2759dee95",
   "metadata": {},
   "outputs": [
    {
     "name": "stdout",
     "output_type": "stream",
     "text": [
      "Requirement already satisfied: keras in c:\\users\\prakash kale\\anaconda3\\lib\\site-packages (2.15.0)\n",
      "Note: you may need to restart the kernel to use updated packages.\n"
     ]
    }
   ],
   "source": [
    "pip install keras"
   ]
  },
  {
   "cell_type": "code",
   "execution_count": 22,
   "id": "f3202db6-8cc1-4499-84a9-d5c1e1a2a2fe",
   "metadata": {},
   "outputs": [],
   "source": [
    "import pandas as pd\n",
    "import os\n",
    "import matplotlib.pyplot as plt\n",
    "from tensorflow.keras.preprocessing.image import ImageDataGenerator\n",
    "from tensorflow.keras.models import Sequential\n",
    "from tensorflow.keras.layers import Conv2D, MaxPooling2D, Flatten, Dense, Dropout\n",
    " \n"
   ]
  },
  {
   "cell_type": "code",
   "execution_count": 23,
   "id": "ada41a6a-e139-46cb-b9a2-edfff5a5775e",
   "metadata": {},
   "outputs": [],
   "source": [
    "img_height, img_width = 128, 128\n",
    "batch_size = 32"
   ]
  },
  {
   "cell_type": "code",
   "execution_count": 24,
   "id": "e40ef902-bacc-4d3f-80a6-a171407995f6",
   "metadata": {},
   "outputs": [],
   "source": [
    "train_dir = r\"C:\\Users\\Prakash Kale\\Desktop\\Project\\Dataset\\Train_and_Test\\Train\"\n",
    "test_dir = r\"C:\\Users\\Prakash Kale\\Desktop\\Project\\Dataset\\Train_and_Test\\valid\""
   ]
  },
  {
   "cell_type": "markdown",
   "id": "330d989f-098b-4917-b421-eb2c152d6dea",
   "metadata": {},
   "source": [
    "# EDA"
   ]
  },
  {
   "cell_type": "markdown",
   "id": "3cb573d9-30e3-4165-8bab-9d421e624e69",
   "metadata": {},
   "source": [
    "# 1.Total diseases"
   ]
  },
  {
   "cell_type": "code",
   "execution_count": 25,
   "id": "63d74685-429d-4d66-b11f-eb8a827c2063",
   "metadata": {},
   "outputs": [],
   "source": [
    "diseases = os.listdir(train_dir)"
   ]
  },
  {
   "cell_type": "code",
   "execution_count": 26,
   "id": "81b4a83c-46f9-4d64-93fb-068911f76213",
   "metadata": {},
   "outputs": [
    {
     "name": "stdout",
     "output_type": "stream",
     "text": [
      "['Apple___Apple_scab', 'Apple___Black_rot', 'Apple___Cedar_apple_rust', 'Apple___healthy', 'Blueberry___healthy', 'Cherry_(including_sour)___healthy', 'Cherry_(including_sour)___Powdery_mildew', 'Corn_(maize)___Cercospora_leaf_spot Gray_leaf_spot', 'Corn_(maize)___Common_rust_', 'Corn_(maize)___healthy', 'Corn_(maize)___Northern_Leaf_Blight', 'Grape___Black_rot', 'Grape___Esca_(Black_Measles)', 'Grape___healthy', 'Grape___Leaf_blight_(Isariopsis_Leaf_Spot)', 'Orange___Haunglongbing_(Citrus_greening)', 'Peach___Bacterial_spot', 'Peach___healthy', 'Pepper,_bell___Bacterial_spot', 'Pepper,_bell___healthy', 'Potato___Early_blight', 'Potato___healthy', 'Potato___Late_blight', 'Raspberry___healthy', 'Soybean___healthy', 'Squash___Powdery_mildew', 'Strawberry___healthy', 'Strawberry___Leaf_scorch', 'Tomato___Bacterial_spot', 'Tomato___Early_blight', 'Tomato___healthy', 'Tomato___Late_blight', 'Tomato___Leaf_Mold', 'Tomato___Septoria_leaf_spot', 'Tomato___Spider_mites Two-spotted_spider_mite', 'Tomato___Target_Spot', 'Tomato___Tomato_mosaic_virus', 'Tomato___Tomato_Yellow_Leaf_Curl_Virus']\n"
     ]
    }
   ],
   "source": [
    "print(diseases)"
   ]
  },
  {
   "cell_type": "code",
   "execution_count": 27,
   "id": "aa47153a-c367-49cd-9cc3-50f3a474dc33",
   "metadata": {},
   "outputs": [
    {
     "name": "stdout",
     "output_type": "stream",
     "text": [
      "Total disease classes: 38\n"
     ]
    }
   ],
   "source": [
    "print(f\"Total disease classes: {len(diseases)}\")"
   ]
  },
  {
   "cell_type": "code",
   "execution_count": 28,
   "id": "c4534200-de9f-48a1-a8e0-89d3d28dda38",
   "metadata": {},
   "outputs": [],
   "source": [
    "plants = []\n",
    "NumberOfDiseases = 0\n",
    "for plant in diseases:\n",
    "    if plant.split('___')[0] not in plants:\n",
    "        plants.append(plant.split('___')[0])\n",
    "    if plant.split('___')[1] != 'healthy':\n",
    "        NumberOfDiseases += 1"
   ]
  },
  {
   "cell_type": "code",
   "execution_count": 29,
   "id": "574b6880-842a-4d36-8275-6dc7ea3d82c7",
   "metadata": {},
   "outputs": [
    {
     "name": "stdout",
     "output_type": "stream",
     "text": [
      "Unique plants are: ['Apple', 'Blueberry', 'Cherry_(including_sour)', 'Corn_(maize)', 'Grape', 'Orange', 'Peach', 'Pepper,_bell', 'Potato', 'Raspberry', 'Soybean', 'Squash', 'Strawberry', 'Tomato']\n"
     ]
    }
   ],
   "source": [
    "print(f\"Unique plants are: {plants}\")"
   ]
  },
  {
   "cell_type": "code",
   "execution_count": 30,
   "id": "f851fa7f-2f95-4a73-812d-612e98dbe86b",
   "metadata": {},
   "outputs": [
    {
     "name": "stdout",
     "output_type": "stream",
     "text": [
      "Total plants: 14\n"
     ]
    }
   ],
   "source": [
    "print(f\"Total plants: {len(plants)}\")"
   ]
  },
  {
   "cell_type": "code",
   "execution_count": 31,
   "id": "4c61ec73-e8ec-41a7-8685-861ab40de05e",
   "metadata": {},
   "outputs": [
    {
     "data": {
      "text/html": [
       "<div>\n",
       "<style scoped>\n",
       "    .dataframe tbody tr th:only-of-type {\n",
       "        vertical-align: middle;\n",
       "    }\n",
       "\n",
       "    .dataframe tbody tr th {\n",
       "        vertical-align: top;\n",
       "    }\n",
       "\n",
       "    .dataframe thead th {\n",
       "        text-align: right;\n",
       "    }\n",
       "</style>\n",
       "<table border=\"1\" class=\"dataframe\">\n",
       "  <thead>\n",
       "    <tr style=\"text-align: right;\">\n",
       "      <th></th>\n",
       "      <th>no. of images</th>\n",
       "    </tr>\n",
       "  </thead>\n",
       "  <tbody>\n",
       "    <tr>\n",
       "      <th>Apple___Apple_scab</th>\n",
       "      <td>2016</td>\n",
       "    </tr>\n",
       "    <tr>\n",
       "      <th>Apple___Black_rot</th>\n",
       "      <td>1987</td>\n",
       "    </tr>\n",
       "    <tr>\n",
       "      <th>Apple___Cedar_apple_rust</th>\n",
       "      <td>1760</td>\n",
       "    </tr>\n",
       "    <tr>\n",
       "      <th>Apple___healthy</th>\n",
       "      <td>2008</td>\n",
       "    </tr>\n",
       "    <tr>\n",
       "      <th>Blueberry___healthy</th>\n",
       "      <td>1816</td>\n",
       "    </tr>\n",
       "    <tr>\n",
       "      <th>Cherry_(including_sour)___healthy</th>\n",
       "      <td>1826</td>\n",
       "    </tr>\n",
       "    <tr>\n",
       "      <th>Cherry_(including_sour)___Powdery_mildew</th>\n",
       "      <td>1683</td>\n",
       "    </tr>\n",
       "    <tr>\n",
       "      <th>Corn_(maize)___Cercospora_leaf_spot Gray_leaf_spot</th>\n",
       "      <td>1642</td>\n",
       "    </tr>\n",
       "    <tr>\n",
       "      <th>Corn_(maize)___Common_rust_</th>\n",
       "      <td>1907</td>\n",
       "    </tr>\n",
       "    <tr>\n",
       "      <th>Corn_(maize)___healthy</th>\n",
       "      <td>1859</td>\n",
       "    </tr>\n",
       "    <tr>\n",
       "      <th>Corn_(maize)___Northern_Leaf_Blight</th>\n",
       "      <td>1908</td>\n",
       "    </tr>\n",
       "    <tr>\n",
       "      <th>Grape___Black_rot</th>\n",
       "      <td>1888</td>\n",
       "    </tr>\n",
       "    <tr>\n",
       "      <th>Grape___Esca_(Black_Measles)</th>\n",
       "      <td>1920</td>\n",
       "    </tr>\n",
       "    <tr>\n",
       "      <th>Grape___healthy</th>\n",
       "      <td>1692</td>\n",
       "    </tr>\n",
       "    <tr>\n",
       "      <th>Grape___Leaf_blight_(Isariopsis_Leaf_Spot)</th>\n",
       "      <td>1722</td>\n",
       "    </tr>\n",
       "    <tr>\n",
       "      <th>Orange___Haunglongbing_(Citrus_greening)</th>\n",
       "      <td>2010</td>\n",
       "    </tr>\n",
       "    <tr>\n",
       "      <th>Peach___Bacterial_spot</th>\n",
       "      <td>1838</td>\n",
       "    </tr>\n",
       "    <tr>\n",
       "      <th>Peach___healthy</th>\n",
       "      <td>1728</td>\n",
       "    </tr>\n",
       "    <tr>\n",
       "      <th>Pepper,_bell___Bacterial_spot</th>\n",
       "      <td>1913</td>\n",
       "    </tr>\n",
       "    <tr>\n",
       "      <th>Pepper,_bell___healthy</th>\n",
       "      <td>1988</td>\n",
       "    </tr>\n",
       "    <tr>\n",
       "      <th>Potato___Early_blight</th>\n",
       "      <td>1939</td>\n",
       "    </tr>\n",
       "    <tr>\n",
       "      <th>Potato___healthy</th>\n",
       "      <td>1824</td>\n",
       "    </tr>\n",
       "    <tr>\n",
       "      <th>Potato___Late_blight</th>\n",
       "      <td>1939</td>\n",
       "    </tr>\n",
       "    <tr>\n",
       "      <th>Raspberry___healthy</th>\n",
       "      <td>1781</td>\n",
       "    </tr>\n",
       "    <tr>\n",
       "      <th>Soybean___healthy</th>\n",
       "      <td>2022</td>\n",
       "    </tr>\n",
       "    <tr>\n",
       "      <th>Squash___Powdery_mildew</th>\n",
       "      <td>1736</td>\n",
       "    </tr>\n",
       "    <tr>\n",
       "      <th>Strawberry___healthy</th>\n",
       "      <td>1824</td>\n",
       "    </tr>\n",
       "    <tr>\n",
       "      <th>Strawberry___Leaf_scorch</th>\n",
       "      <td>1774</td>\n",
       "    </tr>\n",
       "    <tr>\n",
       "      <th>Tomato___Bacterial_spot</th>\n",
       "      <td>1702</td>\n",
       "    </tr>\n",
       "    <tr>\n",
       "      <th>Tomato___Early_blight</th>\n",
       "      <td>1920</td>\n",
       "    </tr>\n",
       "    <tr>\n",
       "      <th>Tomato___healthy</th>\n",
       "      <td>1926</td>\n",
       "    </tr>\n",
       "    <tr>\n",
       "      <th>Tomato___Late_blight</th>\n",
       "      <td>1851</td>\n",
       "    </tr>\n",
       "    <tr>\n",
       "      <th>Tomato___Leaf_Mold</th>\n",
       "      <td>1882</td>\n",
       "    </tr>\n",
       "    <tr>\n",
       "      <th>Tomato___Septoria_leaf_spot</th>\n",
       "      <td>1745</td>\n",
       "    </tr>\n",
       "    <tr>\n",
       "      <th>Tomato___Spider_mites Two-spotted_spider_mite</th>\n",
       "      <td>1741</td>\n",
       "    </tr>\n",
       "    <tr>\n",
       "      <th>Tomato___Target_Spot</th>\n",
       "      <td>1827</td>\n",
       "    </tr>\n",
       "    <tr>\n",
       "      <th>Tomato___Tomato_mosaic_virus</th>\n",
       "      <td>1790</td>\n",
       "    </tr>\n",
       "    <tr>\n",
       "      <th>Tomato___Tomato_Yellow_Leaf_Curl_Virus</th>\n",
       "      <td>1961</td>\n",
       "    </tr>\n",
       "  </tbody>\n",
       "</table>\n",
       "</div>"
      ],
      "text/plain": [
       "                                                    no. of images\n",
       "Apple___Apple_scab                                           2016\n",
       "Apple___Black_rot                                            1987\n",
       "Apple___Cedar_apple_rust                                     1760\n",
       "Apple___healthy                                              2008\n",
       "Blueberry___healthy                                          1816\n",
       "Cherry_(including_sour)___healthy                            1826\n",
       "Cherry_(including_sour)___Powdery_mildew                     1683\n",
       "Corn_(maize)___Cercospora_leaf_spot Gray_leaf_spot           1642\n",
       "Corn_(maize)___Common_rust_                                  1907\n",
       "Corn_(maize)___healthy                                       1859\n",
       "Corn_(maize)___Northern_Leaf_Blight                          1908\n",
       "Grape___Black_rot                                            1888\n",
       "Grape___Esca_(Black_Measles)                                 1920\n",
       "Grape___healthy                                              1692\n",
       "Grape___Leaf_blight_(Isariopsis_Leaf_Spot)                   1722\n",
       "Orange___Haunglongbing_(Citrus_greening)                     2010\n",
       "Peach___Bacterial_spot                                       1838\n",
       "Peach___healthy                                              1728\n",
       "Pepper,_bell___Bacterial_spot                                1913\n",
       "Pepper,_bell___healthy                                       1988\n",
       "Potato___Early_blight                                        1939\n",
       "Potato___healthy                                             1824\n",
       "Potato___Late_blight                                         1939\n",
       "Raspberry___healthy                                          1781\n",
       "Soybean___healthy                                            2022\n",
       "Squash___Powdery_mildew                                      1736\n",
       "Strawberry___healthy                                         1824\n",
       "Strawberry___Leaf_scorch                                     1774\n",
       "Tomato___Bacterial_spot                                      1702\n",
       "Tomato___Early_blight                                        1920\n",
       "Tomato___healthy                                             1926\n",
       "Tomato___Late_blight                                         1851\n",
       "Tomato___Leaf_Mold                                           1882\n",
       "Tomato___Septoria_leaf_spot                                  1745\n",
       "Tomato___Spider_mites Two-spotted_spider_mite                1741\n",
       "Tomato___Target_Spot                                         1827\n",
       "Tomato___Tomato_mosaic_virus                                 1790\n",
       "Tomato___Tomato_Yellow_Leaf_Curl_Virus                       1961"
      ]
     },
     "execution_count": 31,
     "metadata": {},
     "output_type": "execute_result"
    }
   ],
   "source": [
    "# Number of images for each disease\n",
    "nums = {}\n",
    "for disease in diseases:\n",
    "    nums[disease] = len(os.listdir(train_dir + '/' + disease))\n",
    "    \n",
    "# converting the nums dictionary to pandas dataframe passing index as plant name and number of images as column\n",
    "\n",
    "img_per_class = pd.DataFrame(nums.values(), index=nums.keys(), columns=[\"no. of images\"])\n",
    "img_per_class"
   ]
  },
  {
   "cell_type": "code",
   "execution_count": 32,
   "id": "face859f-d1fe-4630-8bc8-51c2de80cea5",
   "metadata": {},
   "outputs": [
    {
     "name": "stdout",
     "output_type": "stream",
     "text": [
      "Number of diseases: 26\n"
     ]
    }
   ],
   "source": [
    "print(\"Number of diseases: {}\".format(NumberOfDiseases))"
   ]
  },
  {
   "cell_type": "markdown",
   "id": "36a71b8a-9564-4c8c-876d-3bffe7510c12",
   "metadata": {},
   "source": [
    "## Visualizing above info. on graph"
   ]
  },
  {
   "cell_type": "code",
   "execution_count": 33,
   "id": "d5bbe72c-c493-4023-b585-da93492ad91f",
   "metadata": {},
   "outputs": [
    {
     "data": {
      "text/plain": [
       "Text(0.5, 1.0, 'Images per each class of plant disease')"
      ]
     },
     "execution_count": 33,
     "metadata": {},
     "output_type": "execute_result"
    },
    {
     "data": {
      "image/png": "[encoded data removed]",
      "text/plain": [
       "<Figure size 2000x500 with 1 Axes>"
      ]
     },
     "metadata": {},
     "output_type": "display_data"
    }
   ],
   "source": [
    "# plotting number of images available for each disease\n",
    "index = [n for n in range(38)]\n",
    "plt.figure(figsize=(20, 5))\n",
    "plt.bar(index, [n for n in nums.values()], width=0.3)\n",
    "plt.xlabel('Plants/Diseases', fontsize=10)\n",
    "plt.ylabel('No of images available', fontsize=10)\n",
    "plt.xticks(index, diseases, fontsize=5, rotation=90)\n",
    "plt.title('Images per each class of plant disease')"
   ]
  },
  {
   "cell_type": "markdown",
   "id": "8b1d3b9d-5f2a-42b2-b022-8b7883da5b34",
   "metadata": {},
   "source": [
    "#### We can see that the dataset is almost balanced for all classes, so we are good to go forward"
   ]
  },
  {
   "cell_type": "code",
   "execution_count": null,
   "id": "8dfabe8c-7c91-4c4b-bc44-a4ef9a8a7581",
   "metadata": {},
   "outputs": [],
   "source": []
  },
  {
   "cell_type": "code",
   "execution_count": 34,
   "id": "70ec0d0d-6be0-41af-8bdd-a114efcac3b9",
   "metadata": {},
   "outputs": [],
   "source": [
    "train_datagen = ImageDataGenerator(\n",
    "    rescale=1./255,\n",
    "    rotation_range=20,\n",
    "    zoom_range=0.2,\n",
    "    shear_range=0.2,\n",
    "    horizontal_flip=True\n",
    ")\n"
   ]
  },
  {
   "cell_type": "code",
   "execution_count": 35,
   "id": "b6e8d56a-aa28-4f0c-9421-cfdd69131906",
   "metadata": {},
   "outputs": [],
   "source": [
    "test_datagen = ImageDataGenerator(rescale=1./255)"
   ]
  },
  {
   "cell_type": "code",
   "execution_count": 36,
   "id": "5da4b7a9-e60e-4b0c-a243-224656493511",
   "metadata": {},
   "outputs": [
    {
     "name": "stdout",
     "output_type": "stream",
     "text": [
      "Found 70295 images belonging to 38 classes.\n"
     ]
    }
   ],
   "source": [
    "train_generator = train_datagen.flow_from_directory(\n",
    "    train_dir,\n",
    "    target_size=(img_height, img_width),\n",
    "    batch_size=batch_size,\n",
    "    class_mode='categorical'\n",
    ")\n"
   ]
  },
  {
   "cell_type": "code",
   "execution_count": 37,
   "id": "1defc238-5187-4c22-9262-97ecd1eede21",
   "metadata": {},
   "outputs": [
    {
     "name": "stdout",
     "output_type": "stream",
     "text": [
      "Found 17572 images belonging to 38 classes.\n"
     ]
    }
   ],
   "source": [
    "test_generator = test_datagen.flow_from_directory(\n",
    "    test_dir,\n",
    "    target_size=(img_height, img_width),\n",
    "    batch_size=batch_size,\n",
    "    class_mode='categorical'\n",
    ")"
   ]
  },
  {
   "cell_type": "code",
   "execution_count": 38,
   "id": "6790e2a8-e10c-47d9-bbc3-f7c5f5bcfe9f",
   "metadata": {},
   "outputs": [],
   "source": [
    "model = Sequential([\n",
    "    Conv2D(32, (3, 3), activation='relu', input_shape=(img_height, img_width, 3)),\n",
    "    MaxPooling2D(2, 2),\n",
    "\n",
    "    Conv2D(64, (3, 3), activation='relu'),\n",
    "    MaxPooling2D(2, 2),\n",
    "\n",
    "    Conv2D(128, (3, 3), activation='relu'),\n",
    "    MaxPooling2D(2, 2),\n",
    "\n",
    "    Flatten(),\n",
    "    Dense(128, activation='relu'),\n",
    "    Dropout(0.5),\n",
    "    Dense(train_generator.num_classes, activation='softmax')\n",
    "])"
   ]
  },
  {
   "cell_type": "code",
   "execution_count": 40,
   "id": "82a5a368-7d5e-4f4e-a0cf-40d2b66aa78c",
   "metadata": {},
   "outputs": [
    {
     "name": "stdout",
     "output_type": "stream",
     "text": [
      "Epoch 1/25\n",
      "WARNING:tensorflow:From C:\\Users\\Prakash Kale\\anaconda3\\lib\\site-packages\\keras\\src\\utils\\tf_utils.py:492: The name tf.ragged.RaggedTensorValue is deprecated. Please use tf.compat.v1.ragged.RaggedTensorValue instead.\n",
      "\n",
      "WARNING:tensorflow:From C:\\Users\\Prakash Kale\\anaconda3\\lib\\site-packages\\keras\\src\\engine\\base_layer_utils.py:384: The name tf.executing_eagerly_outside_functions is deprecated. Please use tf.compat.v1.executing_eagerly_outside_functions instead.\n",
      "\n",
      "2197/2197 [==============================] - 712s 324ms/step - loss: 2.7923 - accuracy: 0.2312 - val_loss: 1.7662 - val_accuracy: 0.5172\n",
      "Epoch 2/25\n",
      "2197/2197 [==============================] - 735s 334ms/step - loss: 2.0523 - accuracy: 0.4097 - val_loss: 1.4995 - val_accuracy: 0.5606\n",
      "Epoch 3/25\n",
      "2197/2197 [==============================] - 734s 334ms/step - loss: 1.7480 - accuracy: 0.4853 - val_loss: 1.1055 - val_accuracy: 0.6774\n",
      "Epoch 4/25\n",
      "2197/2197 [==============================] - 700s 319ms/step - loss: 1.5539 - accuracy: 0.5307 - val_loss: 1.0415 - val_accuracy: 0.6901\n",
      "Epoch 5/25\n",
      "2197/2197 [==============================] - 606s 276ms/step - loss: 1.4096 - accuracy: 0.5695 - val_loss: 0.9877 - val_accuracy: 0.7055\n",
      "Epoch 6/25\n",
      "2197/2197 [==============================] - 606s 276ms/step - loss: 1.3032 - accuracy: 0.5971 - val_loss: 0.8828 - val_accuracy: 0.7348\n",
      "Epoch 7/25\n",
      "2197/2197 [==============================] - 732s 333ms/step - loss: 1.2176 - accuracy: 0.6235 - val_loss: 0.8283 - val_accuracy: 0.7487\n",
      "Epoch 8/25\n",
      "2197/2197 [==============================] - 632s 287ms/step - loss: 1.1410 - accuracy: 0.6452 - val_loss: 0.8436 - val_accuracy: 0.7488\n",
      "Epoch 9/25\n",
      "2197/2197 [==============================] - 622s 283ms/step - loss: 1.0684 - accuracy: 0.6662 - val_loss: 0.7170 - val_accuracy: 0.7832\n",
      "Epoch 10/25\n",
      "2197/2197 [==============================] - 817s 372ms/step - loss: 1.0087 - accuracy: 0.6838 - val_loss: 0.7359 - val_accuracy: 0.7797\n",
      "Epoch 11/25\n",
      "2197/2197 [==============================] - 855s 389ms/step - loss: 0.9549 - accuracy: 0.7006 - val_loss: 0.7162 - val_accuracy: 0.7935\n",
      "Epoch 12/25\n",
      "2197/2197 [==============================] - 960s 437ms/step - loss: 0.9128 - accuracy: 0.7137 - val_loss: 0.7092 - val_accuracy: 0.7900\n",
      "Epoch 13/25\n",
      "2197/2197 [==============================] - 943s 429ms/step - loss: 0.8714 - accuracy: 0.7243 - val_loss: 0.6612 - val_accuracy: 0.8109\n",
      "Epoch 14/25\n",
      "2197/2197 [==============================] - 941s 428ms/step - loss: 0.8286 - accuracy: 0.7373 - val_loss: 0.6898 - val_accuracy: 0.8073\n",
      "Epoch 15/25\n",
      "2197/2197 [==============================] - 935s 426ms/step - loss: 0.7999 - accuracy: 0.7446 - val_loss: 0.5860 - val_accuracy: 0.8260\n",
      "Epoch 16/25\n",
      "2197/2197 [==============================] - 950s 433ms/step - loss: 0.7664 - accuracy: 0.7553 - val_loss: 0.6618 - val_accuracy: 0.8104\n",
      "Epoch 17/25\n",
      "2197/2197 [==============================] - 943s 429ms/step - loss: 0.7402 - accuracy: 0.7628 - val_loss: 0.6047 - val_accuracy: 0.8284\n",
      "Epoch 18/25\n",
      "2197/2197 [==============================] - 950s 432ms/step - loss: 0.7149 - accuracy: 0.7714 - val_loss: 0.5543 - val_accuracy: 0.8415\n",
      "Epoch 19/25\n",
      "2197/2197 [==============================] - 949s 432ms/step - loss: 0.6908 - accuracy: 0.7796 - val_loss: 0.5645 - val_accuracy: 0.8399\n",
      "Epoch 20/25\n",
      "2197/2197 [==============================] - 1230s 560ms/step - loss: 0.6601 - accuracy: 0.7884 - val_loss: 0.5648 - val_accuracy: 0.8438\n",
      "Epoch 21/25\n",
      "2197/2197 [==============================] - 751s 342ms/step - loss: 0.6421 - accuracy: 0.7956 - val_loss: 0.7298 - val_accuracy: 0.8091\n",
      "Epoch 22/25\n",
      "2197/2197 [==============================] - 657s 299ms/step - loss: 0.6171 - accuracy: 0.8020 - val_loss: 0.4843 - val_accuracy: 0.8651\n",
      "Epoch 23/25\n",
      "2197/2197 [==============================] - 620s 282ms/step - loss: 0.5964 - accuracy: 0.8081 - val_loss: 0.6571 - val_accuracy: 0.8301\n",
      "Epoch 24/25\n",
      "2197/2197 [==============================] - 646s 294ms/step - loss: 0.5750 - accuracy: 0.8151 - val_loss: 0.4972 - val_accuracy: 0.8650\n",
      "Epoch 25/25\n",
      "2197/2197 [==============================] - 619s 282ms/step - loss: 0.5584 - accuracy: 0.8204 - val_loss: 0.8140 - val_accuracy: 0.8119\n"
     ]
    },
    {
     "data": {
      "text/plain": [
       "<keras.src.callbacks.History at 0x1d2e310b850>"
      ]
     },
     "execution_count": 40,
     "metadata": {},
     "output_type": "execute_result"
    }
   ],
   "source": [
    "from tensorflow.keras.optimizers import Adam\n",
    "\n",
    "model.compile(optimizer=Adam(learning_rate=0.0001),\n",
    "              loss='categorical_crossentropy',\n",
    "              metrics=['accuracy'])\n",
    "\n",
    "# Train\n",
    "model.fit(train_generator, validation_data=test_generator, epochs=25)\n"
   ]
  },
  {
   "cell_type": "code",
   "execution_count": 41,
   "id": "3a70f44f-8c85-4804-a16f-8144c5601649",
   "metadata": {},
   "outputs": [],
   "source": [
    "model.save(\"plant_disease_model.keras\")"
   ]
  },
  {
   "cell_type": "code",
   "execution_count": 42,
   "id": "55ffbbfb-c65c-40b2-aaad-91d911ab9d30",
   "metadata": {},
   "outputs": [],
   "source": [
    "from keras.models import load_model\n",
    "model = load_model(\"plant_disease_model.keras\")"
   ]
  },
  {
   "cell_type": "code",
   "execution_count": 43,
   "id": "b2472ef9-737e-47b0-ab46-69442c867963",
   "metadata": {},
   "outputs": [
    {
     "name": "stdout",
     "output_type": "stream",
     "text": [
      "550/550 [==============================] - 47s 84ms/step - loss: 0.8140 - accuracy: 0.8119\n",
      "Test Loss: 0.8140\n",
      "Test Accuracy: 0.8119\n"
     ]
    }
   ],
   "source": [
    "loss, accuracy = model.evaluate(test_generator)\n",
    "print(f\"Test Loss: {loss:.4f}\")\n",
    "print(f\"Test Accuracy: {accuracy:.4f}\")"
   ]
  },
  {
   "cell_type": "code",
   "execution_count": 22,
   "id": "c0b0a74f-84a4-4032-871f-f7d1f3292890",
   "metadata": {},
   "outputs": [
    {
     "name": "stdout",
     "output_type": "stream",
     "text": [
      "1/1 [==============================] - 0s 110ms/step\n",
      "Predicted class: Tomato___Tomato_Yellow_Leaf_Curl_Virus\n",
      "Prediction probabilities: [[2.60711541e-08 1.27357211e-07 2.69533956e-07 3.48982248e-05\n",
      "  4.90861203e-06 1.60539244e-07 1.99528963e-10 3.34617205e-08\n",
      "  4.11687116e-14 1.24920865e-10 1.48786843e-16 3.43433721e-03\n",
      "  1.21507670e-04 3.85491381e-04 1.68957168e-08 2.19880781e-06\n",
      "  1.61838179e-05 5.61702684e-10 7.53517728e-04 4.81430106e-07\n",
      "  1.08000693e-08 4.97400470e-04 3.42869353e-05 1.43501558e-04\n",
      "  1.84748615e-06 1.10963970e-06 2.10109260e-03 4.79988194e-06\n",
      "  1.69810429e-02 1.02270360e-03 7.46878140e-06 1.59825104e-05\n",
      "  1.09401604e-04 1.01282829e-02 1.94757318e-04 9.63988304e-01\n",
      "  1.36988328e-05 1.53918364e-07]]\n",
      "550/550 [==============================] - 81s 147ms/step - loss: 0.9288 - accuracy: 0.7660\n",
      "Test Loss: 0.9288\n",
      "Test Accuracy: 0.7660\n"
     ]
    }
   ],
   "source": [
    "from tensorflow.keras.preprocessing import image\n",
    "import numpy as np\n",
    "import json\n",
    "\n",
    "img_path = r\"C:\\Users\\Prakash Kale\\Desktop\\Project\\img2.jpg\"\n",
    "\n",
    "img = image.load_img(img_path, target_size=(128, 128))\n",
    "img_array = image.img_to_array(img) / 255.0\n",
    "img_array = np.expand_dims(img_array, axis=0)\n",
    "\n",
    "prediction = model.predict(img_array)\n",
    "predicted_class = np.argmax(prediction)\n",
    "\n",
    "inv_class_indices = {v: k for k, v in train_generator.class_indices.items()}\n",
    "predicted_class_name = inv_class_indices[predicted_class]\n",
    "\n",
    "print(\"Predicted class:\", predicted_class_name)\n",
    "print(\"Prediction probabilities:\", prediction)\n",
    "\n",
    "class_indices = train_generator.class_indices\n",
    "with open('class_indices.json', 'w') as f:\n",
    "    json.dump(class_indices, f)\n",
    "\n",
    "# Evaluate the model\n",
    "loss, accuracy = model.evaluate(test_generator)\n",
    "print(f\"Test Loss: {loss:.4f}\")\n",
    "print(f\"Test Accuracy: {accuracy:.4f}\")\n"
   ]
  },
  {
   "cell_type": "code",
   "execution_count": null,
   "id": "575c9e0e-c36c-4011-95b3-0bc104273eaf",
   "metadata": {},
   "outputs": [],
   "source": []
  }
 ],
 "metadata": {
  "kernelspec": {
   "display_name": "Python 3 (ipykernel)",
   "language": "python",
   "name": "python3"
  },
  "language_info": {
   "codemirror_mode": {
    "name": "ipython",
    "version": 3
   },
   "file_extension": ".py",
   "mimetype": "text/x-python",
   "name": "python",
   "nbconvert_exporter": "python",
   "pygments_lexer": "ipython3",
   "version": "3.9.13"
  }
 },
 "nbformat": 4,
 "nbformat_minor": 5
}
